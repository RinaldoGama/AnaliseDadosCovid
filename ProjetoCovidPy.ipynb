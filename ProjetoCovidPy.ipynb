{
  "nbformat": 4,
  "nbformat_minor": 0,
  "metadata": {
    "colab": {
      "provenance": [],
      "collapsed_sections": [],
      "authorship_tag": "ABX9TyPL0wx9my4DUJ+6pwLEb+2S",
      "include_colab_link": true
    },
    "kernelspec": {
      "name": "python3",
      "display_name": "Python 3"
    },
    "language_info": {
      "name": "python"
    }
  },
  "cells": [
    {
      "cell_type": "markdown",
      "metadata": {
        "id": "view-in-github",
        "colab_type": "text"
      },
      "source": [
        "<a href=\"https://colab.research.google.com/github/RinaldoGama/AnaliseDadosCovid/blob/main/ProjetoCovidPy.ipynb\" target=\"_parent\"><img src=\"https://colab.research.google.com/assets/colab-badge.svg\" alt=\"Open In Colab\"/></a>"
      ]
    },
    {
      "cell_type": "code",
      "source": [
        "import pandas as pd\n",
        "import plotly.express as px\n",
        "import streamlit as st \n",
        "\n",
        "#streamlit run codigoBase.py\n",
        "\n",
        "\n",
        "#LENDO O DATASET\n",
        "df = pd.read_csv('https://raw.githubusercontent.com/wcota/covid19br/master/cases-brazil-states.csv')\n",
        "\n",
        "#MELHORANDO O NOME DAS COLUNAS DA TABELA\n",
        "df = df.rename(columns={'newDeaths': 'Novos óbitos','newCases': 'Novos casos','deaths_per_100k_inhabitants': 'Óbitos por 100 mil habitantes','totalCases_per_100k_inhabitants':'Casos por 100 mil habitantes'})\n",
        "\n",
        "#SELECÃO DO ESTADO\n",
        "estados = list(df['state'].unique()) #lista de estados\n",
        "State = st.sidebar.selectbox('Qual Estado?', estados)\n",
        "\n",
        "#SELEÇÃO DA COLUNA\n",
        "#column ='Casos por 100 mil habitantes'\n",
        "colunas = ['Novos óbitos','Novos casos','Óbitos por 100 mil habitantes','Casos por 100 mil habitantes']\n",
        "column = st.sidebar.selectbox('Qual tipo de informação?', colunas)\n",
        "\n",
        "#SELEÇÃO DAS LINHAS QUE PERTECEM AO ESTADO \n",
        "df = df[df['state'] == State]\n",
        "\n",
        "fig = px.line(df, x=\"date\", y=column, title=column + ' - ' + State)\n",
        "fig.update_layout( xaxis_title='Data', yaxis_title=column.upper(), title = {'x':0.5})\n",
        "\n",
        "#CONFIGURA TIPOS DE TEXTO NO \n",
        "st.title('ANALISE EXPLORATORIA DE DADOS')\n",
        "st.markdown('CASOS SOBRE COVID - BRASIL')\n",
        "\n",
        "st.write('Nessa aplicação, o usuário tem a opção de escolher o estado e o tipo de informação para mostrar o gráfico. Utilize o menu lateral para alterar a mostragem.')\n",
        "\n",
        "st.plotly_chart(fig, use_container_width=True)\n",
        "\n",
        "#fig.show()\n",
        "\n",
        "st.caption('Os dados foram obtidos a partir do site: https://github.com/wcota/covid19br')"
      ],
      "metadata": {
        "colab": {
          "base_uri": "https://localhost:8080/",
          "height": 390
        },
        "id": "RFauEzQM-z6H",
        "outputId": "6f866d5d-145f-469a-dd7f-910e8f5bb65c"
      },
      "execution_count": 1,
      "outputs": [
        {
          "output_type": "error",
          "ename": "ModuleNotFoundError",
          "evalue": "ignored",
          "traceback": [
            "\u001b[0;31m---------------------------------------------------------------------------\u001b[0m",
            "\u001b[0;31mModuleNotFoundError\u001b[0m                       Traceback (most recent call last)",
            "\u001b[0;32m<ipython-input-1-70c00aac8736>\u001b[0m in \u001b[0;36m<module>\u001b[0;34m\u001b[0m\n\u001b[1;32m      1\u001b[0m \u001b[0;32mimport\u001b[0m \u001b[0mpandas\u001b[0m \u001b[0;32mas\u001b[0m \u001b[0mpd\u001b[0m\u001b[0;34m\u001b[0m\u001b[0;34m\u001b[0m\u001b[0m\n\u001b[1;32m      2\u001b[0m \u001b[0;32mimport\u001b[0m \u001b[0mplotly\u001b[0m\u001b[0;34m.\u001b[0m\u001b[0mexpress\u001b[0m \u001b[0;32mas\u001b[0m \u001b[0mpx\u001b[0m\u001b[0;34m\u001b[0m\u001b[0;34m\u001b[0m\u001b[0m\n\u001b[0;32m----> 3\u001b[0;31m \u001b[0;32mimport\u001b[0m \u001b[0mstreamlit\u001b[0m \u001b[0;32mas\u001b[0m \u001b[0mst\u001b[0m\u001b[0;34m\u001b[0m\u001b[0;34m\u001b[0m\u001b[0m\n\u001b[0m\u001b[1;32m      4\u001b[0m \u001b[0;34m\u001b[0m\u001b[0m\n\u001b[1;32m      5\u001b[0m \u001b[0;31m#streamlit run codigoBase.py\u001b[0m\u001b[0;34m\u001b[0m\u001b[0;34m\u001b[0m\u001b[0;34m\u001b[0m\u001b[0m\n",
            "\u001b[0;31mModuleNotFoundError\u001b[0m: No module named 'streamlit'",
            "",
            "\u001b[0;31m---------------------------------------------------------------------------\u001b[0;32m\nNOTE: If your import is failing due to a missing package, you can\nmanually install dependencies using either !pip or !apt.\n\nTo view examples of installing some common dependencies, click the\n\"Open Examples\" button below.\n\u001b[0;31m---------------------------------------------------------------------------\u001b[0m\n"
          ],
          "errorDetails": {
            "actions": [
              {
                "action": "open_url",
                "actionText": "Open Examples",
                "url": "/notebooks/snippets/importing_libraries.ipynb"
              }
            ]
          }
        }
      ]
    }
  ]
}